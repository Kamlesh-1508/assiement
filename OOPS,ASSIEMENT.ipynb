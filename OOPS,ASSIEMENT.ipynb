{
 "cells": [
  {
   "cell_type": "code",
   "execution_count": 30,
   "metadata": {},
   "outputs": [
    {
     "name": "stdout",
     "output_type": "stream",
     "text": [
      "Area = 12.56\n",
      "Circumference = 12.56\n"
     ]
    }
   ],
   "source": [
    "# 1) Create a Cricle class and intialize it with radius. Make two methods getArea and getCircumference inside this class\n",
    "class Cricle:\n",
    "    def __init__(self,radius):\n",
    "            self.radius=radius\n",
    "    def area(self):\n",
    "        return self.radius*self.radius*3.14\n",
    "    def Circumference(self):\n",
    "            return self.radius*2*3.14\n",
    "\n",
    "getarea=Cricle(2)\n",
    "getCircumference=Cricle(2)\n",
    "print(\"Area =\",getarea.area())\n",
    "print(\"Circumference =\",getCircumference.Circumference())\n",
    "            "
   ]
  },
  {
   "cell_type": "code",
   "execution_count": 1,
   "metadata": {},
   "outputs": [
    {
     "name": "stdout",
     "output_type": "stream",
     "text": [
      "Fahrenheit = 68.0\n",
      "Celsius  = 14.222222222222221\n"
     ]
    }
   ],
   "source": [
    "# 2)Create a Temprature:\n",
    "# . Make two methods :\n",
    "# a. convertFahrenheit - It will take celsius and will print it into Fahrenheit.\n",
    "# b. convertCelsius - It will take Fahrenheit and will convert it into Celsius.\n",
    "class Temprature:\n",
    "    def __init__(self,num):\n",
    "            self.num=num\n",
    "    def Fahrenheit(self):\n",
    "        return self.num*1.8+32\n",
    "    def Celsius (self):\n",
    "            return self.num-32*5/9\n",
    "\n",
    "T1=Temprature(20)\n",
    "T2=Temprature(32)\n",
    "print(\"Fahrenheit =\",T1.Fahrenheit())\n",
    "print(\"Celsius  =\",T2.Celsius ())"
   ]
  },
  {
   "cell_type": "code",
   "execution_count": 12,
   "metadata": {},
   "outputs": [
    {
     "name": "stdout",
     "output_type": "stream",
     "text": [
      " Name=kamlesh\n",
      " Rollnumber =110055 \n",
      " Age=20 \n",
      " Marks=450\n"
     ]
    }
   ],
   "source": [
    "# Create a Student class and initialize it with name and roll number. Make methods to :\n",
    "# a. Display - It should display all informations of the student.\n",
    "# b. setAge - It should assign age to student\n",
    "# c. setMarks - It should assign marks to the student.\n",
    "class student:\n",
    "    def __init__(self,name,rollnumber,age,marks):\n",
    "        self.name=name \n",
    "        self.rollnumber=rollnumber\n",
    "        self.age=age\n",
    "        self.marks=marks\n",
    "    def fullname(self):\n",
    "        return f\" Name={self.name}\\n Rollnumber ={self.rollnumber} \\n Age={self.age} \\n Marks={self.marks}\"\n",
    "s=student('kamlesh',110055,20,450)\n",
    "print(s.fullname())"
   ]
  },
  {
   "cell_type": "code",
   "execution_count": 30,
   "metadata": {},
   "outputs": [
    {
     "name": "stdout",
     "output_type": "stream",
     "text": [
      "Enter your first number::58\n",
      "Enter your second number::95\n",
      "add= 153\n",
      "sub= -37\n",
      "mul= 5510\n",
      "div= 0.6105263157894737\n"
     ]
    }
   ],
   "source": [
    "# Create a class Mathematics with different mathematical operations like addition, subtraction...etc and output the deseried results\n",
    "class Mathematic:\n",
    "    def __init__(self,a,b):\n",
    "            self.a=a\n",
    "            self.b=b\n",
    "    def add(self):\n",
    "        return self.a+self.b\n",
    "    def sub(self):\n",
    "        return self.a-self.b\n",
    "    def mul(self):\n",
    "        return self.a*self.b\n",
    "    def div(self):\n",
    "        return self.a/self.b\n",
    "c=int(input(\"Enter your first number::\"))\n",
    "d=int(input(\"Enter your second number::\"))\n",
    "add1=Mathematic(c,d)\n",
    "print(\"add=\",add1.add())\n",
    "print(\"sub=\",add1.sub())\n",
    "print(\"mul=\",add1.mul())\n",
    "print(\"div=\",add1.div())"
   ]
  },
  {
   "cell_type": "code",
   "execution_count": 2,
   "metadata": {},
   "outputs": [
    {
     "name": "stdout",
     "output_type": "stream",
     "text": [
      "Enter your hours:: 2\n",
      "Enter your day:: 5\n",
      "Enter your week:: 2\n",
      "Welcome to ourshop  aasu bike rentel center\n",
      "10\n",
      "100\n",
      "120\n"
     ]
    }
   ],
   "source": [
    "# 6)A Bike Rental System\n",
    "# A full fledged bike rental system implemented in Python using object oriented programming.\n",
    "\n",
    "# Attributes-Customers can\n",
    "# See available bikes on the shop\n",
    "# Rent bikes on hourly basis $5 per hour.\n",
    "# Rent bikes on daily basis $20 per day.\n",
    "# Rent bikes on weekly basis $60 per week.\n",
    "# Methods-The bike rental shop can issue a bill when customer decides to return the bike.\n",
    "# Display available inventory\n",
    "# Take requests on hourly, daily and weekly basis by cross verifying stock\n",
    "# For simplicity we assume that Any customer requests rentals of only one type i.e hourly, daily or weekly\n",
    "# Is free to chose the number of bikes he/she wants\n",
    "# Requested bikes should be less than available stock.\n",
    "class bike_rental:\n",
    "    def __init__(self,shop,hour,day,week):\n",
    "        self.shop=shop\n",
    "        self.hour=hour\n",
    "        self.day=day\n",
    "        self.week=week\n",
    "    def one(self):\n",
    "        return self.hour*5\n",
    "    def daily(self):\n",
    "        return self.day*20\n",
    "    def weekly(self):\n",
    "        return self.week*60\n",
    "a=int(input(\"Enter your hours:: \"))\n",
    "b=int(input(\"Enter your day:: \"))\n",
    "c=int(input(\"Enter your week:: \"))\n",
    "k=bike_rental(\"aasu bike rentel center\",a,b,c)\n",
    "print(\"Welcome to ourshop \",k.shop)\n",
    "print(k.one())\n",
    "print(k.daily())\n",
    "print(k.weekly())\n",
    "    "
   ]
  }
 ],
 "metadata": {
  "kernelspec": {
   "display_name": "Python 3",
   "language": "python",
   "name": "python3"
  },
  "language_info": {
   "codemirror_mode": {
    "name": "ipython",
    "version": 3
   },
   "file_extension": ".py",
   "mimetype": "text/x-python",
   "name": "python",
   "nbconvert_exporter": "python",
   "pygments_lexer": "ipython3",
   "version": "3.7.3"
  }
 },
 "nbformat": 4,
 "nbformat_minor": 2
}
